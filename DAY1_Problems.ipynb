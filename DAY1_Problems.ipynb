{
  "nbformat": 4,
  "nbformat_minor": 0,
  "metadata": {
    "colab": {
      "provenance": []
    },
    "kernelspec": {
      "name": "python3",
      "display_name": "Python 3"
    },
    "language_info": {
      "name": "python"
    }
  },
  "cells": [
    {
      "cell_type": "markdown",
      "source": [
        "You have a football field that is 92 meter long and 48.8 meter wide. Find out total area using python and print it."
      ],
      "metadata": {
        "id": "YbGQ3auRia6n"
      }
    },
    {
      "cell_type": "code",
      "source": [
        "area=92*48.8\n",
        "print(area)"
      ],
      "metadata": {
        "colab": {
          "base_uri": "https://localhost:8080/"
        },
        "id": "XK7Mf2EQibnt",
        "outputId": "58487d95-bd5a-48d7-848a-bcb1d5f4db37"
      },
      "execution_count": 2,
      "outputs": [
        {
          "output_type": "stream",
          "name": "stdout",
          "text": [
            "4489.599999999999\n"
          ]
        }
      ]
    },
    {
      "cell_type": "markdown",
      "source": [
        "You bought 9 packets of potato chips from a store. Each packet costs 1.49 dollar and you gave shopkeeper 20 dollar. Find out using python, how many dollars is the shopkeeper going to give you back?"
      ],
      "metadata": {
        "id": "Zi8XJnJAivar"
      }
    },
    {
      "cell_type": "code",
      "source": [
        "total_cost=9*1.49\n",
        "remaining_cash=20-total_cost\n",
        "remaining_cash"
      ],
      "metadata": {
        "colab": {
          "base_uri": "https://localhost:8080/"
        },
        "id": "LhOiOfIiioCI",
        "outputId": "f693185d-c881-4e6b-f20c-96c248b1bea8"
      },
      "execution_count": 4,
      "outputs": [
        {
          "output_type": "execute_result",
          "data": {
            "text/plain": [
              "6.59"
            ]
          },
          "metadata": {},
          "execution_count": 4
        }
      ]
    },
    {
      "cell_type": "markdown",
      "source": [
        "You want to replace tiles in your bathroom which is exactly square and 5.5 feet is its length. If tiles cost 500 rs per square feet, how much will be the total cost to replace all tiles. Calculate and print the cost using python"
      ],
      "metadata": {
        "id": "jv9k5UWRmr9o"
      }
    },
    {
      "cell_type": "code",
      "source": [
        "length=5.5\n",
        "area=length*length\n",
        "per_square_feet=500\n",
        "total_cost=area*per_square_feet\n",
        "print(total_cost)"
      ],
      "metadata": {
        "colab": {
          "base_uri": "https://localhost:8080/"
        },
        "id": "jSQk_C1bjCHj",
        "outputId": "cebfbdc1-971b-4287-cc46-b7b1345cba92"
      },
      "execution_count": 6,
      "outputs": [
        {
          "output_type": "stream",
          "name": "stdout",
          "text": [
            "15125.0\n"
          ]
        }
      ]
    },
    {
      "cell_type": "markdown",
      "source": [
        "Print binary representation of number 17"
      ],
      "metadata": {
        "id": "0i2cGAgunTmM"
      }
    },
    {
      "cell_type": "code",
      "source": [
        "number=17\n",
        "print(bin(number))"
      ],
      "metadata": {
        "colab": {
          "base_uri": "https://localhost:8080/"
        },
        "id": "4HxGCBxXnH2j",
        "outputId": "80bd4889-7a59-4f3b-d4a9-fc062e26b33a"
      },
      "execution_count": 7,
      "outputs": [
        {
          "output_type": "stream",
          "name": "stdout",
          "text": [
            "0b10001\n"
          ]
        }
      ]
    }
  ]
}