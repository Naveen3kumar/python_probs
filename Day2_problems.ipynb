{
  "nbformat": 4,
  "nbformat_minor": 0,
  "metadata": {
    "colab": {
      "provenance": []
    },
    "kernelspec": {
      "name": "python3",
      "display_name": "Python 3"
    },
    "language_info": {
      "name": "python"
    }
  },
  "cells": [
    {
      "cell_type": "markdown",
      "source": [
        "Create 3 variables to store street, city and country, now create address variable to store entire address. Use two ways of creating this variable, one using + operator and the other using f-string. Now Print the address in such a way that the street, city and country prints in a separate line"
      ],
      "metadata": {
        "id": "mK83okTcn6dn"
      }
    },
    {
      "cell_type": "code",
      "execution_count": 5,
      "metadata": {
        "colab": {
          "base_uri": "https://localhost:8080/",
          "height": 36
        },
        "id": "RoKa5fiwnjuJ",
        "outputId": "4cf53290-e5a0-4845-f22d-44d99e1b9685"
      },
      "outputs": [
        {
          "output_type": "execute_result",
          "data": {
            "text/plain": [
              "'1st street,shinjiku,japan'"
            ],
            "application/vnd.google.colaboratory.intrinsic+json": {
              "type": "string"
            }
          },
          "metadata": {},
          "execution_count": 5
        }
      ],
      "source": [
        "street='1st street,'\n",
        "city='shinjiku,'\n",
        "country='japan'\n",
        "address=street+city+country\n",
        "address"
      ]
    },
    {
      "cell_type": "code",
      "source": [
        "street='1st street,'\n",
        "city='shinjiku,'\n",
        "country='japan'\n",
        "address=print(f\"{street}{city}{country}\")"
      ],
      "metadata": {
        "colab": {
          "base_uri": "https://localhost:8080/"
        },
        "id": "KhTzjiohoTNf",
        "outputId": "590182d9-ee6f-42b2-a830-b729026d2fbe"
      },
      "execution_count": 7,
      "outputs": [
        {
          "output_type": "stream",
          "name": "stdout",
          "text": [
            "1st street,shinjiku,japan\n"
          ]
        }
      ]
    },
    {
      "cell_type": "markdown",
      "source": [
        "Create a variable to store the string \"Earth revolves around the sun\"\n",
        "\n",
        "Print \"revolves\" using slice operator\n",
        "Print \"sun\" using negative index"
      ],
      "metadata": {
        "id": "AzXWw0nipMbU"
      }
    },
    {
      "cell_type": "code",
      "source": [
        "text=\"Earth revolves around the sun\"\n",
        "a=slice(6,14)\n",
        "print(text[a])\n",
        "print(text[-3:])"
      ],
      "metadata": {
        "colab": {
          "base_uri": "https://localhost:8080/"
        },
        "id": "9_6ggp64pEeh",
        "outputId": "cf58b79f-403e-4b74-8dfd-17633998b5b4"
      },
      "execution_count": 21,
      "outputs": [
        {
          "output_type": "stream",
          "name": "stdout",
          "text": [
            "revolves\n",
            "sun\n"
          ]
        }
      ]
    },
    {
      "cell_type": "markdown",
      "source": [
        "Create two variables to store how many fruits and vegetables you eat in a day. Now Print \"I eat x veggies and y fruits daily\" where x and y presents vegetables and fruits that you eat everyday. Use python f string for this."
      ],
      "metadata": {
        "id": "njAFEn6jsANL"
      }
    },
    {
      "cell_type": "code",
      "source": [
        "x='carrot'\n",
        "y='fig'\n",
        "print(f'I eat {x} veggies and {y} fruits daily')"
      ],
      "metadata": {
        "colab": {
          "base_uri": "https://localhost:8080/"
        },
        "id": "rGk7CwavqIVg",
        "outputId": "2858dceb-05e0-48e2-eb8c-0a699305696e"
      },
      "execution_count": 22,
      "outputs": [
        {
          "output_type": "stream",
          "name": "stdout",
          "text": [
            "I eat carrot veggies and fig fruits daily\n"
          ]
        }
      ]
    },
    {
      "cell_type": "markdown",
      "source": [
        "I have a string variable called s='maine 200 banana khaye'. This of course is a wrong statement, the correct statement is 'maine 10 samosa khaye'. Replace incorrect words in original strong with new ones and print the new string. Also try to do this in one line."
      ],
      "metadata": {
        "id": "NAqw4fc-s4we"
      }
    },
    {
      "cell_type": "code",
      "source": [
        "s = 'maine 200 banana khaye'\n",
        "corrected_s = s.replace('200', '10').replace('banana', 'samosa')\n",
        "\n",
        "print(corrected_s)"
      ],
      "metadata": {
        "colab": {
          "base_uri": "https://localhost:8080/"
        },
        "id": "gPJ_7CcmsQEe",
        "outputId": "3a403895-36bf-4e6f-ba3b-697888d1c47d"
      },
      "execution_count": 33,
      "outputs": [
        {
          "output_type": "stream",
          "name": "stdout",
          "text": [
            "maine 10 samosa khaye\n"
          ]
        }
      ]
    }
  ]
}