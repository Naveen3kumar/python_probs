{
  "nbformat": 4,
  "nbformat_minor": 0,
  "metadata": {
    "colab": {
      "provenance": []
    },
    "kernelspec": {
      "name": "python3",
      "display_name": "Python 3"
    },
    "language_info": {
      "name": "python"
    }
  },
  "cells": [
    {
      "cell_type": "markdown",
      "source": [
        "Create a variable called break and assign it a value 5. See what happens and find out the reason behind the behavior that you see.\n",
        "\n"
      ],
      "metadata": {
        "id": "zdbTij4SujK8"
      }
    },
    {
      "cell_type": "code",
      "execution_count": 1,
      "metadata": {
        "colab": {
          "base_uri": "https://localhost:8080/",
          "height": 140
        },
        "id": "De4u6-05uc3X",
        "outputId": "94bb088d-25a1-4525-d1a8-f238ba48321e"
      },
      "outputs": [
        {
          "output_type": "error",
          "ename": "SyntaxError",
          "evalue": "ignored",
          "traceback": [
            "\u001b[0;36m  File \u001b[0;32m\"<ipython-input-1-7abc8ab243ff>\"\u001b[0;36m, line \u001b[0;32m1\u001b[0m\n\u001b[0;31m    break=5\u001b[0m\n\u001b[0m         ^\u001b[0m\n\u001b[0;31mSyntaxError\u001b[0m\u001b[0;31m:\u001b[0m invalid syntax\n"
          ]
        }
      ],
      "source": [
        "break=5"
      ]
    },
    {
      "cell_type": "markdown",
      "source": [
        "Create two variables. One to store your birth year and another one to store current year. Now calculate your age using these two variables"
      ],
      "metadata": {
        "id": "2kLAbAqQu6cc"
      }
    },
    {
      "cell_type": "code",
      "source": [
        "current_year=2023\n",
        "birth_year=2002\n",
        "age=current_year-birth_year\n",
        "age"
      ],
      "metadata": {
        "colab": {
          "base_uri": "https://localhost:8080/"
        },
        "id": "Y3bxxG5-ul2e",
        "outputId": "a772d5ca-8d99-46f8-9e26-e837f5bfacae"
      },
      "execution_count": 4,
      "outputs": [
        {
          "output_type": "execute_result",
          "data": {
            "text/plain": [
              "21"
            ]
          },
          "metadata": {},
          "execution_count": 4
        }
      ]
    },
    {
      "cell_type": "markdown",
      "source": [
        "Store your first, middle and last name in three different variables and then print your full name using these variables\n",
        "\n"
      ],
      "metadata": {
        "id": "OrJforqbva7K"
      }
    },
    {
      "cell_type": "code",
      "source": [
        "first=\"Naveen\"\n",
        "middle=\"Kumar\"\n",
        "last=\"C\"\n",
        "full_name=print(f\"{first}{middle}{last}\")"
      ],
      "metadata": {
        "colab": {
          "base_uri": "https://localhost:8080/"
        },
        "id": "ka7hR2__vBfy",
        "outputId": "327108df-27df-4002-bfeb-8e8e9c892ea1"
      },
      "execution_count": 5,
      "outputs": [
        {
          "output_type": "stream",
          "name": "stdout",
          "text": [
            "NaveenKumarC\n"
          ]
        }
      ]
    },
    {
      "cell_type": "markdown",
      "source": [
        "Answer which of these are invalid variable names:\n",
        "\n",
        "_nation\n",
        "\n",
        "1record\n",
        "\n",
        "record1\n",
        "\n",
        "record_one\n",
        "\n",
        "record-one\n",
        "\n",
        "record^one\n",
        "\n",
        "continue"
      ],
      "metadata": {
        "id": "iYZCbLgvvmGt"
      }
    },
    {
      "cell_type": "markdown",
      "source": [
        "**Answer**=record-one,record^one and continue"
      ],
      "metadata": {
        "id": "jqahgu-1voIU"
      }
    }
  ]
}